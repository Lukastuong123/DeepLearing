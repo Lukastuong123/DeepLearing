{
  "nbformat": 4,
  "nbformat_minor": 0,
  "metadata": {
    "colab": {
      "name": "Data cleaning mary1.ipynb",
      "provenance": [],
      "collapsed_sections": []
    },
    "kernelspec": {
      "name": "python3",
      "display_name": "Python 3"
    }
  },
  "cells": [
    {
      "cell_type": "code",
      "metadata": {
        "id": "zclBZ4EmfZE0"
      },
      "source": [
        "import pandas as pd\n",
        "from google.colab import files\n"
      ],
      "execution_count": null,
      "outputs": []
    },
    {
      "cell_type": "code",
      "metadata": {
        "colab": {
          "base_uri": "https://localhost:8080/"
        },
        "id": "s2NFMCRaz7E3",
        "outputId": "f27f4149-cad5-468c-918f-0773ff1949c3"
      },
      "source": [
        "from google.colab import drive\n",
        "drive.mount('/content/gdrive')"
      ],
      "execution_count": null,
      "outputs": [
        {
          "output_type": "stream",
          "text": [
            "Drive already mounted at /content/gdrive; to attempt to forcibly remount, call drive.mount(\"/content/gdrive\", force_remount=True).\n"
          ],
          "name": "stdout"
        }
      ]
    },
    {
      "cell_type": "code",
      "metadata": {
        "id": "n0N2nOCe0Gbk"
      },
      "source": [
        "path = 'gdrive/My Drive/grrr/'"
      ],
      "execution_count": null,
      "outputs": []
    },
    {
      "cell_type": "code",
      "metadata": {
        "id": "t_mmN898gxRg"
      },
      "source": [
        "d0 = pd.read_csv(path+\"allfirstrun.csv\")\n",
        "d1 = pd.read_csv(path+\"flowers3110.csv\")\n",
        "d2 = pd.read_csv(path+\"flux1918.csv\")\n",
        "d3 = pd.read_csv(path+\"flux2562.csv\")\n",
        "d4 = pd.read_csv(path+\"happy2620.csv\")\n",
        "d5 = pd.read_csv(path+\"laughter314.csv\")\n",
        "d6 = pd.read_csv(path+\"laughter2619.csv\")\n",
        "d7 = pd.read_csv(path+\"london11394.csv\")\n",
        "d8 = pd.read_csv(path+\"london16747.csv\")\n",
        "d9 = pd.read_csv(path+\"ambulanceablaze749.csv\")\n",
        "d10= pd.read_csv(path+\"delugecollide.csv\")\n",
        "d11= pd.read_csv(path+\"trial1.csv\")\n",
        "d12= pd.read_csv(path+ \"final2.csv\")\n",
        "d13= pd.read_csv(path+ \"trials2.csv\")"
      ],
      "execution_count": null,
      "outputs": []
    },
    {
      "cell_type": "code",
      "metadata": {
        "colab": {
          "base_uri": "https://localhost:8080/",
          "height": 145
        },
        "id": "im-fX036Hllu",
        "outputId": "6e584daa-eee4-4410-cbb7-5ad9c61d925f"
      },
      "source": [
        "d13.head(2)"
      ],
      "execution_count": null,
      "outputs": [
        {
          "output_type": "execute_result",
          "data": {
            "text/html": [
              "<div>\n",
              "<style scoped>\n",
              "    .dataframe tbody tr th:only-of-type {\n",
              "        vertical-align: middle;\n",
              "    }\n",
              "\n",
              "    .dataframe tbody tr th {\n",
              "        vertical-align: top;\n",
              "    }\n",
              "\n",
              "    .dataframe thead th {\n",
              "        text-align: right;\n",
              "    }\n",
              "</style>\n",
              "<table border=\"1\" class=\"dataframe\">\n",
              "  <thead>\n",
              "    <tr style=\"text-align: right;\">\n",
              "      <th></th>\n",
              "      <th>username</th>\n",
              "      <th>location</th>\n",
              "      <th>following</th>\n",
              "      <th>followers</th>\n",
              "      <th>totaltweets</th>\n",
              "      <th>usercreatedts</th>\n",
              "      <th>tweetcreatedts</th>\n",
              "      <th>retweetcount</th>\n",
              "      <th>text</th>\n",
              "      <th>hashtags</th>\n",
              "    </tr>\n",
              "  </thead>\n",
              "  <tbody>\n",
              "    <tr>\n",
              "      <th>0</th>\n",
              "      <td>doubletetra</td>\n",
              "      <td>NaN</td>\n",
              "      <td>440</td>\n",
              "      <td>10</td>\n",
              "      <td>532</td>\n",
              "      <td>2018-10-25 03:52:52</td>\n",
              "      <td>2021-02-27 14:39:11</td>\n",
              "      <td>125</td>\n",
              "      <td>“We can't be brave without fear.” - #MuhammadA...</td>\n",
              "      <td>[{'text': 'MuhammadAli', 'indices': [53, 65]},...</td>\n",
              "    </tr>\n",
              "    <tr>\n",
              "      <th>1</th>\n",
              "      <td>richardjdsouza</td>\n",
              "      <td>Cardiff, U.K.</td>\n",
              "      <td>2943</td>\n",
              "      <td>2865</td>\n",
              "      <td>13058</td>\n",
              "      <td>2012-07-13 22:35:17</td>\n",
              "      <td>2021-02-27 14:39:05</td>\n",
              "      <td>0</td>\n",
              "      <td>Are you coping with anxiety? https://t.co/PKtC...</td>\n",
              "      <td>[{'text': 'anxietytips', 'indices': [54, 66]},...</td>\n",
              "    </tr>\n",
              "  </tbody>\n",
              "</table>\n",
              "</div>"
            ],
            "text/plain": [
              "         username  ...                                           hashtags\n",
              "0     doubletetra  ...  [{'text': 'MuhammadAli', 'indices': [53, 65]},...\n",
              "1  richardjdsouza  ...  [{'text': 'anxietytips', 'indices': [54, 66]},...\n",
              "\n",
              "[2 rows x 10 columns]"
            ]
          },
          "metadata": {
            "tags": []
          },
          "execution_count": 5
        }
      ]
    },
    {
      "cell_type": "code",
      "metadata": {
        "colab": {
          "base_uri": "https://localhost:8080/",
          "height": 162
        },
        "id": "G23Qa8qnp9Sa",
        "outputId": "62795623-dda7-454d-aa29-4707fcf9ebe4"
      },
      "source": [
        "d0.head(2)"
      ],
      "execution_count": null,
      "outputs": [
        {
          "output_type": "execute_result",
          "data": {
            "text/html": [
              "<div>\n",
              "<style scoped>\n",
              "    .dataframe tbody tr th:only-of-type {\n",
              "        vertical-align: middle;\n",
              "    }\n",
              "\n",
              "    .dataframe tbody tr th {\n",
              "        vertical-align: top;\n",
              "    }\n",
              "\n",
              "    .dataframe thead th {\n",
              "        text-align: right;\n",
              "    }\n",
              "</style>\n",
              "<table border=\"1\" class=\"dataframe\">\n",
              "  <thead>\n",
              "    <tr style=\"text-align: right;\">\n",
              "      <th></th>\n",
              "      <th>User</th>\n",
              "      <th>Location</th>\n",
              "      <th>Tweet</th>\n",
              "      <th>Num of Friend</th>\n",
              "      <th>Num of Followers</th>\n",
              "      <th>Total Tweets by user</th>\n",
              "      <th>Account Created at</th>\n",
              "      <th>Tweet Created at</th>\n",
              "      <th>Num of Retweet</th>\n",
              "      <th>hashtags in the tweet</th>\n",
              "    </tr>\n",
              "  </thead>\n",
              "  <tbody>\n",
              "    <tr>\n",
              "      <th>0</th>\n",
              "      <td>Actorielle</td>\n",
              "      <td>NC and NYC</td>\n",
              "      <td>0</td>\n",
              "      <td>Hey @TRICARE, my mom needs fast-acting #insuli...</td>\n",
              "      <td>4988</td>\n",
              "      <td>1886</td>\n",
              "      <td>13910</td>\n",
              "      <td>2009-07-23 06:40:33</td>\n",
              "      <td>2021-02-26 14:56:08</td>\n",
              "      <td>[{'text': 'insulin', 'indices': [39, 47]}, {'t...</td>\n",
              "    </tr>\n",
              "    <tr>\n",
              "      <th>1</th>\n",
              "      <td>IkaLest25577531</td>\n",
              "      <td>NaN</td>\n",
              "      <td>0</td>\n",
              "      <td>You are encouragement and help raise me from c...</td>\n",
              "      <td>99</td>\n",
              "      <td>3</td>\n",
              "      <td>11</td>\n",
              "      <td>2020-11-06 13:06:52</td>\n",
              "      <td>2021-02-26 14:56:00</td>\n",
              "      <td>[{'text': 'loveyourself', 'indices': [159, 172...</td>\n",
              "    </tr>\n",
              "  </tbody>\n",
              "</table>\n",
              "</div>"
            ],
            "text/plain": [
              "              User  ...                              hashtags in the tweet\n",
              "0       Actorielle  ...  [{'text': 'insulin', 'indices': [39, 47]}, {'t...\n",
              "1  IkaLest25577531  ...  [{'text': 'loveyourself', 'indices': [159, 172...\n",
              "\n",
              "[2 rows x 10 columns]"
            ]
          },
          "metadata": {
            "tags": []
          },
          "execution_count": 40
        }
      ]
    },
    {
      "cell_type": "code",
      "metadata": {
        "id": "L4dnhx900Z9S"
      },
      "source": [
        "#0,9,10,11,12, 13"
      ],
      "execution_count": null,
      "outputs": []
    },
    {
      "cell_type": "code",
      "metadata": {
        "id": "eYcAJaLiR0of"
      },
      "source": [
        "d0.columns =['User',\t'Location',\t'Num of Friend','Num of Followers','Total Tweets by user','Account Created at',\t'Tweet Created at',\t'Num of Retweet','Tweet',\t'hashtags in the tweet']\n",
        "d0=d0[['User','Location','Tweet','Num of Friend','Num of Followers','Total Tweets by user','Account Created at','Tweet Created at','Num of Retweet','hashtags in the tweet']]\n",
        "d9.columns =['User',\t'Location',\t'Num of Friend','Num of Followers','Total Tweets by user','Account Created at',\t'Tweet Created at',\t'Num of Retweet','Tweet',\t'hashtags in the tweet']\n",
        "d9=d9[['User','Location','Tweet','Num of Friend','Num of Followers','Total Tweets by user','Account Created at','Tweet Created at','Num of Retweet','hashtags in the tweet']]\n",
        "d10.columns =['User',\t'Location',\t'Num of Friend','Num of Followers','Total Tweets by user','Account Created at',\t'Tweet Created at',\t'Num of Retweet','Tweet',\t'hashtags in the tweet']\n",
        "d10=d10[['User','Location','Tweet','Num of Friend','Num of Followers','Total Tweets by user','Account Created at','Tweet Created at','Num of Retweet','hashtags in the tweet']]\n",
        "d11.columns =['User',\t'Location',\t'Num of Friend','Num of Followers','Total Tweets by user','Account Created at',\t'Tweet Created at',\t'Num of Retweet','Tweet',\t'hashtags in the tweet']\n",
        "d11=d11[['User','Location','Tweet','Num of Friend','Num of Followers','Total Tweets by user','Account Created at','Tweet Created at','Num of Retweet','hashtags in the tweet']]\n",
        "d12.columns =['User',\t'Location',\t'Num of Friend','Num of Followers','Total Tweets by user','Account Created at',\t'Tweet Created at',\t'Num of Retweet','Tweet',\t'hashtags in the tweet']\n",
        "d12=d12[['User','Location','Tweet','Num of Friend','Num of Followers','Total Tweets by user','Account Created at','Tweet Created at','Num of Retweet','hashtags in the tweet']]\n",
        "d13.columns =['User',\t'Location',\t'Num of Friend','Num of Followers','Total Tweets by user','Account Created at',\t'Tweet Created at',\t'Num of Retweet','Tweet',\t'hashtags in the tweet']\n",
        "d13=d13[['User','Location','Tweet','Num of Friend','Num of Followers','Total Tweets by user','Account Created at','Tweet Created at','Num of Retweet','hashtags in the tweet']]"
      ],
      "execution_count": null,
      "outputs": []
    },
    {
      "cell_type": "code",
      "metadata": {
        "colab": {
          "base_uri": "https://localhost:8080/"
        },
        "id": "hrMIbJZ0IuGW",
        "outputId": "bd571df7-2c73-42cd-eaab-5f13372da23c"
      },
      "source": [
        "all = pd.concat([d0,d1,d2,d3,d4,d5,d6,d7,d8,d9,d10,d11,d12,d13], axis = 0, ignore_index = True)\n",
        "all.shape"
      ],
      "execution_count": null,
      "outputs": [
        {
          "output_type": "execute_result",
          "data": {
            "text/plain": [
              "(107771, 10)"
            ]
          },
          "metadata": {
            "tags": []
          },
          "execution_count": 44
        }
      ]
    },
    {
      "cell_type": "code",
      "metadata": {
        "colab": {
          "base_uri": "https://localhost:8080/"
        },
        "id": "P2JY9_vGKQZz",
        "outputId": "0a500f70-bf88-4883-817a-ebb49738b583"
      },
      "source": [
        "all_wout_dup = all.drop_duplicates(subset = \"Tweet\", ignore_index = True)\n",
        "all_wout_dup.shape"
      ],
      "execution_count": null,
      "outputs": [
        {
          "output_type": "execute_result",
          "data": {
            "text/plain": [
              "(23548, 10)"
            ]
          },
          "metadata": {
            "tags": []
          },
          "execution_count": 45
        }
      ]
    },
    {
      "cell_type": "code",
      "metadata": {
        "id": "LuwlYy-Qvbqa"
      },
      "source": [
        "all_wout_dup"
      ],
      "execution_count": null,
      "outputs": []
    },
    {
      "cell_type": "code",
      "metadata": {
        "colab": {
          "base_uri": "https://localhost:8080/"
        },
        "id": "0YLGHs1kqtAl",
        "outputId": "7d5adb12-5c77-4a38-a9cb-0f1f2ffb64b7"
      },
      "source": [
        "all_wout_dup.drop(all_wout_dup.loc[all_wout_dup['User']=='User'].index, inplace=True)\n"
      ],
      "execution_count": null,
      "outputs": [
        {
          "output_type": "stream",
          "text": [
            "/usr/local/lib/python3.7/dist-packages/pandas/core/frame.py:4174: SettingWithCopyWarning: \n",
            "A value is trying to be set on a copy of a slice from a DataFrame\n",
            "\n",
            "See the caveats in the documentation: https://pandas.pydata.org/pandas-docs/stable/user_guide/indexing.html#returning-a-view-versus-a-copy\n",
            "  errors=errors,\n"
          ],
          "name": "stderr"
        }
      ]
    },
    {
      "cell_type": "code",
      "metadata": {
        "id": "qoBJq35pLZPM"
      },
      "source": [
        "import re\n",
        "from nltk.stem.wordnet import WordNetLemmatizer\n",
        "lemmatizer = WordNetLemmatizer()\n",
        "import nltk\n",
        "nltk.download('all')\n",
        "nltk.download('stopwords')\n",
        "\n",
        "from nltk.corpus import stopwords\n",
        "stop_words = stopwords.words(\"english\")\n",
        "#updated the stopwords by adding a list of terms, like km and mi, also the directions from 16 wind compass rose https://en.wikipedia.org/wiki/Points_of_the_compass\n",
        "#newStopWords = ['km','mi','utc','gmt','n','s','w','e','ne','nw','se','sw','nne','ene','ese','sse','ssw','wsw','wnw','nnw']\n",
        "#stop_words.extend(newStopWords)\n"
      ],
      "execution_count": null,
      "outputs": []
    },
    {
      "cell_type": "code",
      "metadata": {
        "id": "5qTlbMJ-AWVo"
      },
      "source": [
        "emoji_pattern = re.compile(\"[\"\n",
        "         u\"\\U0001F600-\\U0001F64F\"  # emoticons\n",
        "         u\"\\U0001F300-\\U0001F5FF\"  # symbols & pictographs\n",
        "         u\"\\U0001F680-\\U0001F6FF\"  # transport & map symbols\n",
        "         u\"\\U0001F1E0-\\U0001F1FF\"  # flags (iOS)\n",
        "         u\"\\U00002702-\\U000027B0\"\n",
        "         u\"\\U000024C2-\\U0001F251\"\n",
        "         \"]+\", flags=re.UNICODE)\n",
        "\n",
        "def clean_text(twt):\n",
        "\n",
        "    cln_twt = re.sub(\"^b\", \"\", twt) #Remove the extra \"b'\" of every tweet at the beginning\n",
        "    cln_twt = re.sub(r'\\\\n', ' ', cln_twt)\n",
        "    cln_twt = emoji_pattern.sub(r\"\", cln_twt) #Removing emoji patterns compiled above\n",
        "    cln_twt = re.sub('((www\\.[^\\s]+)|(https?://[^\\s]+))', '', cln_twt) #Removing the links\n",
        "    #cln_twt = all.drop_duplicates(subset = \"Tweet\", ignore_index = True)\n",
        "    cln_twt = re.sub(\"(#[^\\s]+\\s+)*(#[^\\s]+)$\", \"\", cln_twt)  #Remove the hashtags at the end of the tweet\n",
        "    cln_twt = re.sub(r'#', '', #Replace hashtags in the actual tweet with space\n",
        "                     cln_twt)\n",
        "    cln_twt = re.sub(\"[^\\d\\s]*[\\d]+[^\\d\\s]*\", \"\", cln_twt) #Removes all sorts of numbers and date time characters \n",
        "    cln_twt = re.sub(r'[^\\w\\d\\s]', ' ', cln_twt) #Punctuation removed\n",
        "    cln_twt = re.sub(r'\\\\x[a-z]*[0-9]*[a-z]*', ' ', cln_twt)\n",
        "    cln_twt = re.sub(r'\\s+', ' ', cln_twt) #Too much space replaced by single space\n",
        "    cln_twt = re.sub(r'^\\s+|\\s+?$', '', cln_twt.lower()) #Get rid of spaces at the beginning and at the end.\n",
        "    \n",
        "\n",
        "    #LEMMATIZE\n",
        "    return ' '.join([lemmatizer.lemmatize(term, 'v') \n",
        "    for term in cln_twt.split(\" \")\n",
        "    if term not in stop_words\n",
        "    ])\n",
        "    #self.cln_twt=  self.cln_twt.decode(\"utf-8\")\n",
        "\n",
        "    #self.cln_twt = list(set(self.cln_twt))\n"
      ],
      "execution_count": null,
      "outputs": []
    },
    {
      "cell_type": "code",
      "metadata": {
        "colab": {
          "base_uri": "https://localhost:8080/"
        },
        "id": "_NcT866UVIaM",
        "outputId": "c1d30bdf-0f05-4bcc-9d9c-1630bce2b094"
      },
      "source": [
        "clean_text"
      ],
      "execution_count": null,
      "outputs": [
        {
          "output_type": "execute_result",
          "data": {
            "text/plain": [
              "<function __main__.clean_text>"
            ]
          },
          "metadata": {
            "tags": []
          },
          "execution_count": 57
        }
      ]
    },
    {
      "cell_type": "code",
      "metadata": {
        "id": "a_nMc1YSNDMY"
      },
      "source": [
        "all_wout_dup[\"Cleaned Tweet 1\"] = all_wout_dup.apply(lambda a: clean_text(a[\"Tweet\"]), axis = 1)\n",
        "\n",
        "for i in range(0,2064):\n",
        "\n",
        "  print(all_wout_dup[\"Cleaned Tweet 1\"][i])"
      ],
      "execution_count": null,
      "outputs": []
    },
    {
      "cell_type": "code",
      "metadata": {
        "id": "h9MSDLdtN3xj"
      },
      "source": [
        "from datetime import datetime\n",
        "to_csv_timestamp = datetime.today().strftime('%Y%m%d_%H%M%S')\n",
        "\n",
        "    # Define working path and filename\n",
        "path = 'gdrive/My Drive/grrr/'\n",
        "filename = path+ to_csv_timestamp + '_final_random_tweets.csv'  "
      ],
      "execution_count": null,
      "outputs": []
    },
    {
      "cell_type": "code",
      "metadata": {
        "id": "xGgxiPcY6D7K"
      },
      "source": [
        "all_wout_dup=all_wout_dup.drop_duplicates(subset=\"Cleaned Tweet 1\")"
      ],
      "execution_count": null,
      "outputs": []
    },
    {
      "cell_type": "code",
      "metadata": {
        "id": "vXI_rEkc6kGM"
      },
      "source": [
        "all_wout_dup=all_wout_dup.reset_index(drop=True)"
      ],
      "execution_count": null,
      "outputs": []
    },
    {
      "cell_type": "code",
      "metadata": {
        "id": "3a1ol3926vUQ"
      },
      "source": [
        "all_wout_dup"
      ],
      "execution_count": null,
      "outputs": []
    },
    {
      "cell_type": "code",
      "metadata": {
        "id": "8IioGEtc6DAO"
      },
      "source": [
        "  # Store dataframe in csv with creation date timestamp\n",
        "all_wout_dup.to_csv(filename, index = False,encoding=\"utf-8\")"
      ],
      "execution_count": null,
      "outputs": []
    }
  ]
}